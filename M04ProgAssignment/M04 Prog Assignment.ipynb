{
 "cells": [
  {
   "cell_type": "markdown",
   "id": "b4e8ce49",
   "metadata": {},
   "source": [
    "11.1"
   ]
  },
  {
   "cell_type": "code",
   "execution_count": 2,
   "id": "a33fa13e",
   "metadata": {},
   "outputs": [
    {
     "name": "stdout",
     "output_type": "stream",
     "text": [
      "Open 9-5 daily\n"
     ]
    }
   ],
   "source": [
    "import zoo\n",
    "\n",
    "zoo.hours()"
   ]
  },
  {
   "cell_type": "markdown",
   "id": "6c27f86e",
   "metadata": {},
   "source": [
    "11.2"
   ]
  },
  {
   "cell_type": "code",
   "execution_count": 3,
   "id": "d6604a46",
   "metadata": {},
   "outputs": [
    {
     "name": "stdout",
     "output_type": "stream",
     "text": [
      "Open 9-5 daily\n"
     ]
    }
   ],
   "source": [
    "import zoo as menagerie\n",
    "\n",
    "menagerie.hours()"
   ]
  },
  {
   "cell_type": "markdown",
   "id": "31746470",
   "metadata": {},
   "source": [
    "16.8"
   ]
  },
  {
   "cell_type": "code",
   "execution_count": 18,
   "id": "1c435590",
   "metadata": {},
   "outputs": [
    {
     "name": "stdout",
     "output_type": "stream",
     "text": [
      "Perdido Street Station\n",
      "Small Gods\n",
      "The Spellman Files\n",
      "The Weirdstone of Brisingamen\n",
      "Thud!\n"
     ]
    }
   ],
   "source": [
    "import sqlalchemy as sa\n",
    "\n",
    "con = sa.create_engine('sqlite://')\n",
    "\n",
    "con.execute(\"create table books (title varchar, author varchar, year varchar)\")\n",
    "\n",
    "ins = \"insert into books (title, author, year) values (?, ?, ?)\"\n",
    "\n",
    "con.execute(ins, \"The Weirdstone of Brisingamen\",\"Alan Garner\",\"1960\")\n",
    "con.execute(ins, \"Perdido Street Station\",\"China Miéville\",\"2000\")\n",
    "con.execute(ins, \"Thud!\",\"Terry Pratchett\",\"2005\")\n",
    "con.execute(ins, \"The Spellman Files\",\"Lisa Lutz\",\"2007\")\n",
    "con.execute(ins, \"Small Gods\",\"Terry Pratchett\",\"1992\")\n",
    "\n",
    "rows = con.execute(\"select title from books order by title\")\n",
    "\n",
    "for row in rows:\n",
    "    print(row[0])"
   ]
  },
  {
   "cell_type": "code",
   "execution_count": null,
   "id": "78142e61",
   "metadata": {},
   "outputs": [],
   "source": []
  }
 ],
 "metadata": {
  "kernelspec": {
   "display_name": "Python 3 (ipykernel)",
   "language": "python",
   "name": "python3"
  },
  "language_info": {
   "codemirror_mode": {
    "name": "ipython",
    "version": 3
   },
   "file_extension": ".py",
   "mimetype": "text/x-python",
   "name": "python",
   "nbconvert_exporter": "python",
   "pygments_lexer": "ipython3",
   "version": "3.9.12"
  }
 },
 "nbformat": 4,
 "nbformat_minor": 5
}
